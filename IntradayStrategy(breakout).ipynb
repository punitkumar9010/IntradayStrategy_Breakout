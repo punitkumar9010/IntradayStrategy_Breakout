{
 "cells": [
  {
   "cell_type": "markdown",
   "metadata": {},
   "source": [
    "# Strategy for Buy & Sell(Swing Trading)"
   ]
  },
  {
   "cell_type": "markdown",
   "metadata": {},
   "source": [
    "Objective: We will code a strategy to exit any position which can be buy, sell, hold or no position. With this strategy will will identify the opportunity to get on board with relly(long and short both) and deboard when stop loss get triggered."
   ]
  },
  {
   "cell_type": "code",
   "execution_count": 1,
   "metadata": {},
   "outputs": [],
   "source": [
    "import numpy as np\n",
    "import pandas as pd\n",
    "from alpha_vantage.timeseries import TimeSeries\n",
    "import copy\n",
    "import matplotlib.pyplot as plt"
   ]
  },
  {
   "cell_type": "code",
   "execution_count": 2,
   "metadata": {},
   "outputs": [],
   "source": [
    "pd.set_option('display.width', 500)\n",
    "pd.set_option('display.max_columns', 15)\n",
    "pd.set_option('display.max_rows', 200)\n",
    "pd.set_option('display.min_rows', 100)"
   ]
  },
  {
   "cell_type": "code",
   "execution_count": 3,
   "metadata": {},
   "outputs": [],
   "source": [
    "#using ATR strategy to exit the positions\n",
    "#function to calculate True Range and Average True Range\n",
    "def ATR(DF, n):\n",
    "    df = DF.copy()\n",
    "    df['H-L'] = abs(df['High'] - df['Low'])\n",
    "    df['H-PC'] = abs(df['High'] - df['Adj Close'].shift(1))\n",
    "    df['L-PC'] = abs(df['Low'] - df['Adj Close'].shift(1))\n",
    "    df['TR'] = df[['H-L', 'H-PC', 'L-PC']].max(axis=1, skipna=False)\n",
    "    df['ATR'] = df['TR'].rolling(n).mean()\n",
    "    # df['ATR'] = df['TR'].ewm(span=n,adjust=False,min_periods=n).mean()\n",
    "    df2 = df.drop(['H-L', 'H-PC', 'L-PC'], axis=1)\n",
    "    return df2['ATR']"
   ]
  },
  {
   "cell_type": "code",
   "execution_count": 4,
   "metadata": {},
   "outputs": [],
   "source": [
    "# Download historical data (monthly) for selected stocks\n",
    "tickers = [\"LYFT\", \"AAPL\", \"AMZN\", \"TSLA\", \"MSFT\"]"
   ]
  },
  {
   "cell_type": "code",
   "execution_count": 5,
   "metadata": {},
   "outputs": [],
   "source": [
    "ohlc_intraday = {}  # directory with ohlc value for each stock\n",
    "key_path = \"C:\\\\Users\\\\punit\\\\Desktop\\\\9010\\\\AplhaVantageKey.txt\"\n",
    "ts = TimeSeries(key=open(key_path, 'r').read(), output_format='pandas')"
   ]
  },
  {
   "cell_type": "code",
   "execution_count": 6,
   "metadata": {},
   "outputs": [],
   "source": [
    "attempt = 0  # initializing passthrough variable\n",
    "drop = []  # initializing list to store tickers whose close price was successfully extracted\n",
    "while len(tickers) != 0 and attempt <= 5:\n",
    "    tickers = [j for j in tickers if j not in drop]\n",
    "    for i in range(len(tickers)):\n",
    "        ohlc_intraday[tickers[i]] = ts.get_intraday(symbol=tickers[i], interval='1min', outputsize='full')[0] #alpha vantage also gives metadata at position 1, so at 0 there is data which we requires(ohlcv data)\n",
    "        ohlc_intraday[tickers[i]].columns = [\"Open\", \"High\", \"Low\", \"Adj Close\", \"Volume\"]\n",
    "        drop.append(tickers[i])\n",
    "    attempt += 1\n",
    "\n",
    "tickers = ohlc_intraday.keys()  # redefine tickers variable after removing any tickers with corrupted data"
   ]
  },
  {
   "cell_type": "code",
   "execution_count": 7,
   "metadata": {},
   "outputs": [
    {
     "name": "stdout",
     "output_type": "stream",
     "text": [
      "calculating ATR and rolling max price for  LYFT\n",
      "calculating ATR and rolling max price for  AAPL\n",
      "calculating ATR and rolling max price for  AMZN\n",
      "calculating ATR and rolling max price for  TSLA\n",
      "calculating ATR and rolling max price for  MSFT\n"
     ]
    }
   ],
   "source": [
    "# calculating ATR and rolling max price for each stock and consolidating this info by stock in a separate dataframe\n",
    "ohlc_dict = copy.deepcopy(ohlc_intraday)\n",
    "tickers_signal = {}\n",
    "tickers_ret = {}\n",
    "for ticker in tickers:\n",
    "    print(\"calculating ATR and rolling max price for \", ticker)\n",
    "    ohlc_dict[ticker][\"ATR\"] = ATR(ohlc_dict[ticker], 20)\n",
    "    ohlc_dict[ticker][\"roll_max_cp\"] = ohlc_dict[ticker][\"High\"].rolling(20).max()\n",
    "    ohlc_dict[ticker][\"roll_min_cp\"] = ohlc_dict[ticker][\"Low\"].rolling(20).min()\n",
    "    ohlc_dict[ticker][\"roll_max_vol\"] = ohlc_dict[ticker][\"Volume\"].rolling(20).max()\n",
    "    ohlc_dict[ticker].dropna(inplace=True)\n",
    "    tickers_signal[ticker] = \"\"\n",
    "    tickers_ret[ticker] = []"
   ]
  },
  {
   "cell_type": "code",
   "execution_count": 8,
   "metadata": {},
   "outputs": [
    {
     "name": "stdout",
     "output_type": "stream",
     "text": [
      "calculating returns for  LYFT\n",
      "calculating returns for  AAPL\n",
      "calculating returns for  AMZN\n",
      "calculating returns for  TSLA\n",
      "calculating returns for  MSFT\n"
     ]
    }
   ],
   "source": [
    "# identifying signals and calculating daily return (stop loss factored in)\n",
    "for ticker in tickers:\n",
    "    print(\"calculating returns for \", ticker)\n",
    "    for i in range(len(ohlc_dict[ticker])):\n",
    "        if tickers_signal[ticker] == \"\":\n",
    "            tickers_ret[ticker].append(0)\n",
    "            if ohlc_dict[ticker][\"High\"][i] >= ohlc_dict[ticker][\"roll_max_cp\"][i] and \\\n",
    "                    ohlc_dict[ticker][\"Volume\"][i] > 1.5 * ohlc_dict[ticker][\"roll_max_vol\"][i - 1]:\n",
    "                tickers_signal[ticker] = \"Buy\"\n",
    "            elif ohlc_dict[ticker][\"Low\"][i] <= ohlc_dict[ticker][\"roll_min_cp\"][i] and \\\n",
    "                    ohlc_dict[ticker][\"Volume\"][i] > 1.5 * ohlc_dict[ticker][\"roll_max_vol\"][i - 1]:\n",
    "                tickers_signal[ticker] = \"Sell\"\n",
    "\n",
    "        elif tickers_signal[ticker] == \"Buy\":\n",
    "            if ohlc_dict[ticker][\"Adj Close\"][i] < ohlc_dict[ticker][\"Adj Close\"][i - 1] - ohlc_dict[ticker][\"ATR\"][i - 1]:\n",
    "                tickers_signal[ticker] = \"\"\n",
    "                tickers_ret[ticker].append(((ohlc_dict[ticker][\"Adj Close\"][i - 1] - ohlc_dict[ticker][\"ATR\"][i - 1]) /\n",
    "                                            ohlc_dict[ticker][\"Adj Close\"][i - 1]) - 1)\n",
    "            elif ohlc_dict[ticker][\"Low\"][i] <= ohlc_dict[ticker][\"roll_min_cp\"][i] and \\\n",
    "                    ohlc_dict[ticker][\"Volume\"][i] > 1.5 * ohlc_dict[ticker][\"roll_max_vol\"][i - 1]:\n",
    "                tickers_signal[ticker] = \"Sell\"\n",
    "                tickers_ret[ticker].append(((ohlc_dict[ticker][\"Adj Close\"][i - 1] - ohlc_dict[ticker][\"ATR\"][i - 1]) /\n",
    "                                            ohlc_dict[ticker][\"Adj Close\"][i - 1]) - 1)\n",
    "            else:\n",
    "                tickers_ret[ticker].append((ohlc_dict[ticker][\"Adj Close\"][i] / ohlc_dict[ticker][\"Adj Close\"][i - 1]) - 1)\n",
    "\n",
    "        elif tickers_signal[ticker] == \"Sell\":\n",
    "            if ohlc_dict[ticker][\"Adj Close\"][i] > ohlc_dict[ticker][\"Adj Close\"][i - 1] + ohlc_dict[ticker][\"ATR\"][i - 1]:\n",
    "                tickers_signal[ticker] = \"\"\n",
    "                tickers_ret[ticker].append((ohlc_dict[ticker][\"Adj Close\"][i - 1] / (\n",
    "                            ohlc_dict[ticker][\"Adj Close\"][i - 1] + ohlc_dict[ticker][\"ATR\"][i - 1])) - 1)\n",
    "            elif ohlc_dict[ticker][\"High\"][i] >= ohlc_dict[ticker][\"roll_max_cp\"][i] and \\\n",
    "                    ohlc_dict[ticker][\"Volume\"][i] > 1.5 * ohlc_dict[ticker][\"roll_max_vol\"][i - 1]:\n",
    "                tickers_signal[ticker] = \"Buy\"\n",
    "                tickers_ret[ticker].append((ohlc_dict[ticker][\"Adj Close\"][i - 1] / (\n",
    "                            ohlc_dict[ticker][\"Adj Close\"][i - 1] + ohlc_dict[ticker][\"ATR\"][i - 1])) - 1)\n",
    "            else:\n",
    "                tickers_ret[ticker].append((ohlc_dict[ticker][\"Adj Close\"][i - 1] / ohlc_dict[ticker][\"Adj Close\"][i]) - 1)\n",
    "\n",
    "    ohlc_dict[ticker][\"ret\"] = np.array(tickers_ret[ticker])"
   ]
  },
  {
   "cell_type": "code",
   "execution_count": 9,
   "metadata": {},
   "outputs": [
    {
     "data": {
      "text/plain": [
       "<matplotlib.axes._subplots.AxesSubplot at 0x15c3c3f5188>"
      ]
     },
     "execution_count": 9,
     "metadata": {},
     "output_type": "execute_result"
    },
    {
     "data": {
      "image/png": "[encoded data removed]",
      "text/plain": [
       "<Figure size 432x288 with 1 Axes>"
      ]
     },
     "metadata": {
      "needs_background": "light"
     },
     "output_type": "display_data"
    }
   ],
   "source": [
    "# vizualization of strategy return\n",
    "strategy_df = pd.DataFrame()\n",
    "for ticker in tickers:\n",
    "    strategy_df[ticker] = ohlc_dict[ticker][\"ret\"]\n",
    "strategy_df[\"ret\"] = strategy_df.mean(axis=1)\n",
    "(1 + strategy_df[\"ret\"]).cumprod().plot()"
   ]
  }
 ],
 "metadata": {
  "kernelspec": {
   "display_name": "Python 3",
   "language": "python",
   "name": "python3"
  },
  "language_info": {
   "codemirror_mode": {
    "name": "ipython",
    "version": 3
   },
   "file_extension": ".py",
   "mimetype": "text/x-python",
   "name": "python",
   "nbconvert_exporter": "python",
   "pygments_lexer": "ipython3",
   "version": "3.7.4"
  }
 },
 "nbformat": 4,
 "nbformat_minor": 2
}
